{
  "nbformat": 4,
  "nbformat_minor": 0,
  "metadata": {
    "colab": {
      "name": "Create your own gan .ipynb",
      "provenance": []
    },
    "kernelspec": {
      "name": "python3",
      "display_name": "Python 3"
    },
    "language_info": {
      "name": "python"
    },
    "accelerator": "GPU"
  },
  "cells": [
    {
      "cell_type": "code",
      "metadata": {
        "id": "IHd1YvHlyH9X"
      },
      "source": [
        "import torch\n",
        "from torch import nn\n",
        "\n",
        "import math\n",
        "import matplotlib.pyplot as plt"
      ],
      "execution_count": 1,
      "outputs": []
    },
    {
      "cell_type": "code",
      "metadata": {
        "colab": {
          "base_uri": "https://localhost:8080/"
        },
        "id": "V_qcQGykyIwz",
        "outputId": "663628f0-8b59-4846-8022-5cf6b7251f19"
      },
      "source": [
        "torch.manual_seed(111)"
      ],
      "execution_count": 2,
      "outputs": [
        {
          "output_type": "execute_result",
          "data": {
            "text/plain": [
              "<torch._C.Generator at 0x7f50a5c9ddd0>"
            ]
          },
          "metadata": {
            "tags": []
          },
          "execution_count": 2
        }
      ]
    },
    {
      "cell_type": "code",
      "metadata": {
        "id": "oucfbF3fyOmk"
      },
      "source": [
        "train_data_length = 1024\n",
        "train_data = torch.zeros((train_data_length, 2))\n",
        "train_data[:, 0] = 2 * math.pi * torch.rand(train_data_length)\n",
        "train_data[:, 1] = torch.sin(train_data[:, 0])\n",
        "train_labels = torch.zeros(train_data_length)\n",
        "train_set = [\n",
        "    (train_data[i], train_labels[i]) for i in range(train_data_length)\n",
        "]"
      ],
      "execution_count": 3,
      "outputs": []
    },
    {
      "cell_type": "code",
      "metadata": {
        "colab": {
          "base_uri": "https://localhost:8080/",
          "height": 281
        },
        "id": "HSycTtIFyROk",
        "outputId": "a430f3a2-719b-45b8-c907-884cc49c0fa0"
      },
      "source": [
        "plt.plot(train_data[:, 0], train_data[:, 1], \".\")"
      ],
      "execution_count": 4,
      "outputs": [
        {
          "output_type": "execute_result",
          "data": {
            "text/plain": [
              "[<matplotlib.lines.Line2D at 0x7f50a50ffc90>]"
            ]
          },
          "metadata": {
            "tags": []
          },
          "execution_count": 4
        },
        {
          "output_type": "display_data",
          "data": {
            "image/png": "[encoded data removed]",
            "text/plain": [
              "<Figure size 432x288 with 1 Axes>"
            ]
          },
          "metadata": {
            "tags": [],
            "needs_background": "light"
          }
        }
      ]
    },
    {
      "cell_type": "code",
      "metadata": {
        "id": "RVaBClmJyTv3"
      },
      "source": [
        "batch_size = 32\n",
        "train_loader = torch.utils.data.DataLoader(\n",
        "    train_set, batch_size=batch_size, shuffle=True\n",
        ")"
      ],
      "execution_count": 5,
      "outputs": []
    },
    {
      "cell_type": "code",
      "metadata": {
        "id": "0i6cNECFzSYi"
      },
      "source": [
        "class Discriminator(nn.Module):\n",
        "    def __init__(self):\n",
        "        super().__init__()\n",
        "        self.model = nn.Sequential(\n",
        "            nn.Linear(2, 256),\n",
        "            nn.ReLU(),\n",
        "            nn.Dropout(0.3),\n",
        "            nn.Linear(256, 128),\n",
        "            nn.ReLU(),\n",
        "            nn.Dropout(0.3),\n",
        "            nn.Linear(128, 64),\n",
        "            nn.ReLU(),\n",
        "            nn.Dropout(0.3),\n",
        "            nn.Linear(64, 1),\n",
        "            nn.Sigmoid(),\n",
        "        )\n",
        "\n",
        "    def forward(self, x):\n",
        "        output = self.model(x)\n",
        "        return output"
      ],
      "execution_count": 6,
      "outputs": []
    },
    {
      "cell_type": "code",
      "metadata": {
        "id": "VetvHlFazvky"
      },
      "source": [
        "discriminator = Discriminator()"
      ],
      "execution_count": 7,
      "outputs": []
    },
    {
      "cell_type": "code",
      "metadata": {
        "id": "vvU0U4yTz7hl"
      },
      "source": [
        "class Generator(nn.Module):\n",
        "    def __init__(self):\n",
        "        super().__init__()\n",
        "        self.model = nn.Sequential(\n",
        "            nn.Linear(2, 16),\n",
        "            nn.ReLU(),\n",
        "            nn.Linear(16, 32),\n",
        "            nn.ReLU(),\n",
        "            nn.Linear(32, 2),\n",
        "        )\n",
        "\n",
        "    def forward(self, x):\n",
        "        output = self.model(x)\n",
        "        return output\n",
        "\n",
        "generator = Generator()"
      ],
      "execution_count": 8,
      "outputs": []
    },
    {
      "cell_type": "code",
      "metadata": {
        "id": "Oef3DD_J0AaC"
      },
      "source": [
        "lr = 0.001\n",
        "num_epochs = 300\n",
        "loss_function = nn.BCELoss()"
      ],
      "execution_count": 9,
      "outputs": []
    },
    {
      "cell_type": "code",
      "metadata": {
        "id": "OFlk0qjr0CsZ"
      },
      "source": [
        "optimizer_discriminator = torch.optim.Adam(discriminator.parameters(), lr=lr)\n",
        "optimizer_generator = torch.optim.Adam(generator.parameters(), lr=lr)"
      ],
      "execution_count": 10,
      "outputs": []
    },
    {
      "cell_type": "code",
      "metadata": {
        "colab": {
          "base_uri": "https://localhost:8080/"
        },
        "id": "uRtjSGPJ0FRG",
        "outputId": "dc80d99c-c7c5-4819-c558-bc3855e72e7b"
      },
      "source": [
        "for epoch in range(num_epochs):\n",
        "    for n, (real_samples, _) in enumerate(train_loader):\n",
        "        # Data for training the discriminator\n",
        "        real_samples_labels = torch.ones((batch_size, 1))\n",
        "        latent_space_samples = torch.randn((batch_size, 2))\n",
        "        generated_samples = generator(latent_space_samples)\n",
        "        generated_samples_labels = torch.zeros((batch_size, 1))\n",
        "        all_samples = torch.cat((real_samples, generated_samples))\n",
        "        all_samples_labels = torch.cat(\n",
        "            (real_samples_labels, generated_samples_labels)\n",
        "        )\n",
        "\n",
        "        # Training the discriminator\n",
        "        discriminator.zero_grad()\n",
        "        output_discriminator = discriminator(all_samples)\n",
        "        loss_discriminator = loss_function(\n",
        "            output_discriminator, all_samples_labels)\n",
        "        loss_discriminator.backward()\n",
        "        optimizer_discriminator.step()\n",
        "\n",
        "        # Data for training the generator\n",
        "        latent_space_samples = torch.randn((batch_size, 2))\n",
        "\n",
        "        # Training the generator\n",
        "        generator.zero_grad()\n",
        "        generated_samples = generator(latent_space_samples)\n",
        "        output_discriminator_generated = discriminator(generated_samples)\n",
        "        loss_generator = loss_function(\n",
        "            output_discriminator_generated, real_samples_labels\n",
        "        )\n",
        "        loss_generator.backward()\n",
        "        optimizer_generator.step()\n",
        "\n",
        "        # Show loss\n",
        "        if epoch % 10 == 0 and n == batch_size - 1:\n",
        "            print(f\"Epoch: {epoch} Loss D.: {loss_discriminator}\")\n",
        "            print(f\"Epoch: {epoch} Loss G.: {loss_generator}\")"
      ],
      "execution_count": 11,
      "outputs": [
        {
          "output_type": "stream",
          "text": [
            "Epoch: 0 Loss D.: 0.19172890484333038\n",
            "Epoch: 0 Loss G.: 2.205277681350708\n",
            "Epoch: 10 Loss D.: 0.6455698013305664\n",
            "Epoch: 10 Loss G.: 0.8941397666931152\n",
            "Epoch: 20 Loss D.: 0.6456489562988281\n",
            "Epoch: 20 Loss G.: 0.8919371366500854\n",
            "Epoch: 30 Loss D.: 0.6728670597076416\n",
            "Epoch: 30 Loss G.: 0.8778129816055298\n",
            "Epoch: 40 Loss D.: 0.6325268745422363\n",
            "Epoch: 40 Loss G.: 0.702785849571228\n",
            "Epoch: 50 Loss D.: 0.6204653978347778\n",
            "Epoch: 50 Loss G.: 0.9101289510726929\n",
            "Epoch: 60 Loss D.: 0.5522268414497375\n",
            "Epoch: 60 Loss G.: 0.9904371500015259\n",
            "Epoch: 70 Loss D.: 0.5903010964393616\n",
            "Epoch: 70 Loss G.: 1.0225229263305664\n",
            "Epoch: 80 Loss D.: 0.6235218048095703\n",
            "Epoch: 80 Loss G.: 0.9041709899902344\n",
            "Epoch: 90 Loss D.: 0.6744253039360046\n",
            "Epoch: 90 Loss G.: 0.8965575695037842\n",
            "Epoch: 100 Loss D.: 0.6881913542747498\n",
            "Epoch: 100 Loss G.: 1.1556098461151123\n",
            "Epoch: 110 Loss D.: 0.6485523581504822\n",
            "Epoch: 110 Loss G.: 0.7771891951560974\n",
            "Epoch: 120 Loss D.: 0.6140218377113342\n",
            "Epoch: 120 Loss G.: 0.8845400214195251\n",
            "Epoch: 130 Loss D.: 0.6125869750976562\n",
            "Epoch: 130 Loss G.: 0.8310216665267944\n",
            "Epoch: 140 Loss D.: 0.6674470901489258\n",
            "Epoch: 140 Loss G.: 0.7617863416671753\n",
            "Epoch: 150 Loss D.: 0.7807609438896179\n",
            "Epoch: 150 Loss G.: 0.739361584186554\n",
            "Epoch: 160 Loss D.: 0.6637596487998962\n",
            "Epoch: 160 Loss G.: 0.7304242849349976\n",
            "Epoch: 170 Loss D.: 0.7724139094352722\n",
            "Epoch: 170 Loss G.: 0.7749279737472534\n",
            "Epoch: 180 Loss D.: 0.6405274271965027\n",
            "Epoch: 180 Loss G.: 0.7835613489151001\n",
            "Epoch: 190 Loss D.: 0.706099271774292\n",
            "Epoch: 190 Loss G.: 0.698054313659668\n",
            "Epoch: 200 Loss D.: 0.6278105974197388\n",
            "Epoch: 200 Loss G.: 0.8709835410118103\n",
            "Epoch: 210 Loss D.: 0.6442293524742126\n",
            "Epoch: 210 Loss G.: 1.1352570056915283\n",
            "Epoch: 220 Loss D.: 0.6132981777191162\n",
            "Epoch: 220 Loss G.: 0.8672422170639038\n",
            "Epoch: 230 Loss D.: 0.7033081650733948\n",
            "Epoch: 230 Loss G.: 0.6989192366600037\n",
            "Epoch: 240 Loss D.: 0.6998447179794312\n",
            "Epoch: 240 Loss G.: 0.7135035991668701\n",
            "Epoch: 250 Loss D.: 0.7621429562568665\n",
            "Epoch: 250 Loss G.: 0.8799213767051697\n",
            "Epoch: 260 Loss D.: 0.7901245951652527\n",
            "Epoch: 260 Loss G.: 0.9585984945297241\n",
            "Epoch: 270 Loss D.: 0.6689623594284058\n",
            "Epoch: 270 Loss G.: 0.712278425693512\n",
            "Epoch: 280 Loss D.: 0.6876071691513062\n",
            "Epoch: 280 Loss G.: 0.8831450343132019\n",
            "Epoch: 290 Loss D.: 0.772131621837616\n",
            "Epoch: 290 Loss G.: 0.7073971629142761\n"
          ],
          "name": "stdout"
        }
      ]
    },
    {
      "cell_type": "code",
      "metadata": {
        "id": "ItF2KbIE0Q4R"
      },
      "source": [
        "latent_space_samples = torch.randn(100, 2)\n",
        "generated_samples = generator(latent_space_samples)"
      ],
      "execution_count": 12,
      "outputs": []
    },
    {
      "cell_type": "code",
      "metadata": {
        "colab": {
          "base_uri": "https://localhost:8080/",
          "height": 281
        },
        "id": "kJTLHUuT0W0I",
        "outputId": "38b703cb-c7f5-41ca-8029-214047b06941"
      },
      "source": [
        "generated_samples = generated_samples.detach()\n",
        "plt.plot(generated_samples[:, 0], generated_samples[:, 1], \".\")"
      ],
      "execution_count": 13,
      "outputs": [
        {
          "output_type": "execute_result",
          "data": {
            "text/plain": [
              "[<matplotlib.lines.Line2D at 0x7f50a4bace10>]"
            ]
          },
          "metadata": {
            "tags": []
          },
          "execution_count": 13
        },
        {
          "output_type": "display_data",
          "data": {
            "image/png": "[encoded data removed]",
            "text/plain": [
              "<Figure size 432x288 with 1 Axes>"
            ]
          },
          "metadata": {
            "tags": [],
            "needs_background": "light"
          }
        }
      ]
    },
    {
      "cell_type": "code",
      "metadata": {
        "id": "V3slHu7k0ZZM"
      },
      "source": [
        ""
      ],
      "execution_count": 18,
      "outputs": []
    },
    {
      "cell_type": "code",
      "metadata": {
        "id": "8RTGvcRG0pSq"
      },
      "source": [
        ""
      ],
      "execution_count": 18,
      "outputs": []
    },
    {
      "cell_type": "code",
      "metadata": {
        "id": "u4kBhnuC0rLz"
      },
      "source": [
        ""
      ],
      "execution_count": 18,
      "outputs": []
    },
    {
      "cell_type": "code",
      "metadata": {
        "id": "aH8j-dMQ0tCq"
      },
      "source": [
        ""
      ],
      "execution_count": 18,
      "outputs": []
    },
    {
      "cell_type": "code",
      "metadata": {
        "id": "pLm9--gK0vfU"
      },
      "source": [
        ""
      ],
      "execution_count": 18,
      "outputs": []
    },
    {
      "cell_type": "code",
      "metadata": {
        "id": "AEVKD5DY0x-7"
      },
      "source": [
        ""
      ],
      "execution_count": null,
      "outputs": []
    }
  ]
}